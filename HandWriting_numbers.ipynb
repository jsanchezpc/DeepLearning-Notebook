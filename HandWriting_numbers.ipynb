{
  "nbformat": 4,
  "nbformat_minor": 0,
  "metadata": {
    "colab": {
      "name": "HandWriting_numbers.ipynb",
      "provenance": [],
      "collapsed_sections": []
    },
    "kernelspec": {
      "name": "python3",
      "display_name": "Python 3"
    },
    "language_info": {
      "name": "python"
    }
  },
  "cells": [
    {
      "cell_type": "markdown",
      "source": [
        "# Deep Learning: Reconocimiento de números escritos a mano\n",
        "\n",
        "> En este tutorial, tomaremos imagenes de números escritos a mano, del 0 al 9, y enseñaremos a nuestra inteligencia a saber qué número sale en la foto.\n",
        "\n"
      ],
      "metadata": {
        "id": "jLZliV31f9Gh"
      }
    },
    {
      "cell_type": "markdown",
      "source": [
        "Importamos TensorFlow:"
      ],
      "metadata": {
        "id": "GWPXHHtFxxhx"
      }
    },
    {
      "cell_type": "code",
      "source": [
        "import tensorflow as tf\n",
        "\n",
        "tf.__version__"
      ],
      "metadata": {
        "id": "IuJrHktOhHMB",
        "colab": {
          "base_uri": "https://localhost:8080/",
          "height": 35
        },
        "outputId": "e29a123e-493f-4ff9-87a9-a3d10957ea32"
      },
      "execution_count": 21,
      "outputs": [
        {
          "output_type": "execute_result",
          "data": {
            "text/plain": [
              "'2.8.0'"
            ],
            "application/vnd.google.colaboratory.intrinsic+json": {
              "type": "string"
            }
          },
          "metadata": {},
          "execution_count": 21
        }
      ]
    },
    {
      "cell_type": "markdown",
      "source": [
        "Importamos el dataset de las imagenes con números escritos a mano. Normalizamos las imagenes para tener valores entre 0 y 1, para hacer más fácil el aprendizaje de la ia."
      ],
      "metadata": {
        "id": "d0Y5ZfoKioPg"
      }
    },
    {
      "cell_type": "code",
      "source": [
        "mnist = tf.keras.datasets.mnist\n",
        "\n",
        "(x_train, y_train), (x_test, y_test) = mnist.load_data()\n",
        "\n",
        "x_train = tf.keras.utils.normalize(x_train, axis=1)\n",
        "x_test = tf.keras.utils.normalize(x_test, axis=1)"
      ],
      "metadata": {
        "id": "V4_XZkX_hNXo"
      },
      "execution_count": 22,
      "outputs": []
    },
    {
      "cell_type": "markdown",
      "source": [
        "Creamos un modelo (secuencial), y le añadimos las capas. \n",
        "La última capa (Output) suele tener un valor igual al número de elementos del Dataset. Es decir, si nuestro Dataset tiene 10 imagenes, tendrá un valor de 10, si tiene 20, 20."
      ],
      "metadata": {
        "id": "KfvAnQQFxhPh"
      }
    },
    {
      "cell_type": "code",
      "source": [
        "model = tf.keras.models.Sequential()\n",
        "model.add(tf.keras.layers.Flatten())\n",
        "model.add(tf.keras.layers.Dense(128, activation=tf.nn.relu))\n",
        "model.add(tf.keras.layers.Dense(128, activation=tf.nn.relu))\n",
        "# Output Layer\n",
        "model.add(tf.keras.layers.Dense(10, activation=tf.nn.softmax))"
      ],
      "metadata": {
        "colab": {
          "base_uri": "https://localhost:8080/"
        },
        "id": "21P-Z5iIotiD",
        "outputId": "b72d9bb8-aa76-4b57-d39c-f3921d467110"
      },
      "execution_count": 23,
      "outputs": [
        {
          "output_type": "stream",
          "name": "stdout",
          "text": [
            "Epoch 1/3\n",
            "1875/1875 [==============================] - 5s 3ms/step - loss: 0.2581 - accuracy: 0.9251\n",
            "Epoch 2/3\n",
            "1875/1875 [==============================] - 5s 2ms/step - loss: 0.1048 - accuracy: 0.9674\n",
            "Epoch 3/3\n",
            "1875/1875 [==============================] - 5s 2ms/step - loss: 0.0717 - accuracy: 0.9773\n"
          ]
        },
        {
          "output_type": "execute_result",
          "data": {
            "text/plain": [
              "<keras.callbacks.History at 0x7f308b1e3310>"
            ]
          },
          "metadata": {},
          "execution_count": 23
        }
      ]
    },
    {
      "cell_type": "markdown",
      "source": [
        "Compilamos el modelo, optimizándolo para mejores resultados. \n",
        "Entrenamos el modelo."
      ],
      "metadata": {
        "id": "hPEwmtFky5Tp"
      }
    },
    {
      "cell_type": "code",
      "source": [
        "model.compile(optimizer='adam',loss='sparse_categorical_crossentropy', metrics=['accuracy'])\n",
        "model.fit(x_train, y_train, epochs=3)"
      ],
      "metadata": {
        "id": "-l3L2vLny4VR"
      },
      "execution_count": null,
      "outputs": []
    },
    {
      "cell_type": "markdown",
      "source": [
        "Evaluamos los resultados del modelo."
      ],
      "metadata": {
        "id": "C_DMTcpwzWO4"
      }
    },
    {
      "cell_type": "code",
      "source": [
        "val_loss, val_acc = model.evaluate(x_test, y_test)\n",
        "print(val_loss, val_acc)"
      ],
      "metadata": {
        "colab": {
          "base_uri": "https://localhost:8080/"
        },
        "id": "MtkQFZYVoVIE",
        "outputId": "8ea46c8e-994e-4f73-a30a-5bf8ac26e622"
      },
      "execution_count": 24,
      "outputs": [
        {
          "output_type": "stream",
          "name": "stdout",
          "text": [
            "313/313 [==============================] - 1s 2ms/step - loss: 0.0858 - accuracy: 0.9723\n",
            "0.08582133799791336 0.9722999930381775\n"
          ]
        }
      ]
    },
    {
      "cell_type": "markdown",
      "source": [
        "Utilizaremos Matplotlib.pyplot para mostrar la imagen con el número que le pasemos al modelo:"
      ],
      "metadata": {
        "id": "4XWxzsIkjr5r"
      }
    },
    {
      "cell_type": "code",
      "source": [
        "import matplotlib.pyplot as plt\n",
        "\n",
        "plt.imshow(x_train[5], cmap= plt.cm.binary)\n",
        "plt.show()\n",
        "#print(x_train)"
      ],
      "metadata": {
        "colab": {
          "base_uri": "https://localhost:8080/",
          "height": 265
        },
        "id": "z8a-ZSaSjwgi",
        "outputId": "b170d0f3-1016-4c49-9929-aa0b4b770820"
      },
      "execution_count": 27,
      "outputs": [
        {
          "output_type": "display_data",
          "data": {
            "text/plain": [
              "<Figure size 432x288 with 1 Axes>"
            ],
            "image/png": "[encoded data removed]"
          },
          "metadata": {
            "needs_background": "light"
          }
        }
      ]
    },
    {
      "cell_type": "markdown",
      "source": [
        "Guardamos el modelo:"
      ],
      "metadata": {
        "id": "Iqy5hLZYzlox"
      }
    },
    {
      "cell_type": "code",
      "source": [
        "model.save('handwriting_num_predict.model')"
      ],
      "metadata": {
        "id": "8istHgfpp4ux",
        "colab": {
          "base_uri": "https://localhost:8080/"
        },
        "outputId": "ad53c592-7e81-47c3-eaa1-d94f354d8699"
      },
      "execution_count": 26,
      "outputs": [
        {
          "output_type": "stream",
          "name": "stdout",
          "text": [
            "INFO:tensorflow:Assets written to: handwriting_num_predict.model/assets\n"
          ]
        }
      ]
    }
  ]
}