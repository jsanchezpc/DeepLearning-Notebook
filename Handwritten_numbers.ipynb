{
  "nbformat": 4,
  "nbformat_minor": 0,
  "metadata": {
    "colab": {
      "name": "Handwritten_numbers.ipynb",
      "provenance": [],
      "collapsed_sections": []
    },
    "kernelspec": {
      "name": "python3",
      "display_name": "Python 3"
    },
    "language_info": {
      "name": "python"
    }
  },
  "cells": [
    {
      "cell_type": "markdown",
      "source": [
        "# Deep Learning: Handwritten numbers recognizer\n",
        "\n",
        ">  A very basic **deep learning** recognizer. In this case, the algorithm will **recognize handwritten numbers**. The images are loaded from the **Keras** database.\n",
        "\n"
      ],
      "metadata": {
        "id": "jLZliV31f9Gh"
      }
    },
    {
      "cell_type": "markdown",
      "source": [
        "Import ***TensorFlow***:"
      ],
      "metadata": {
        "id": "GWPXHHtFxxhx"
      }
    },
    {
      "cell_type": "code",
      "source": [
        "import tensorflow as tf\n",
        "\n",
        "tf.__version__"
      ],
      "metadata": {
        "id": "IuJrHktOhHMB",
        "colab": {
          "base_uri": "https://localhost:8080/",
          "height": 35
        },
        "outputId": "f05b48a4-f39c-41c6-a77f-97f8dbe5f91b"
      },
      "execution_count": 1,
      "outputs": [
        {
          "output_type": "execute_result",
          "data": {
            "text/plain": [
              "'2.8.0'"
            ],
            "application/vnd.google.colaboratory.intrinsic+json": {
              "type": "string"
            }
          },
          "metadata": {},
          "execution_count": 1
        }
      ]
    },
    {
      "cell_type": "markdown",
      "source": [
        "**Import** the images. Then, **normalize** the image data to get basic 0 and 1 output. This means that the **color value** of each **pixel** of the image will be **between 0 and 1**  (i.e: 0.25)"
      ],
      "metadata": {
        "id": "d0Y5ZfoKioPg"
      }
    },
    {
      "cell_type": "code",
      "source": [
        "mnist = tf.keras.datasets.mnist\n",
        "\n",
        "(x_train, y_train), (x_test, y_test) = mnist.load_data()\n",
        "\n",
        "x_train = tf.keras.utils.normalize(x_train, axis=1)\n",
        "x_test = tf.keras.utils.normalize(x_test, axis=1)"
      ],
      "metadata": {
        "id": "V4_XZkX_hNXo",
        "colab": {
          "base_uri": "https://localhost:8080/"
        },
        "outputId": "ab99f3de-0555-48c9-8349-d5b9b9d8b574"
      },
      "execution_count": 2,
      "outputs": [
        {
          "output_type": "stream",
          "name": "stdout",
          "text": [
            "Downloading data from https://storage.googleapis.com/tensorflow/tf-keras-datasets/mnist.npz\n",
            "11493376/11490434 [==============================] - 0s 0us/step\n",
            "11501568/11490434 [==============================] - 0s 0us/step\n"
          ]
        }
      ]
    },
    {
      "cell_type": "markdown",
      "source": [
        "Create a **Sequential model** and add some **layers**, all from the *Keras API*.\n",
        "The **Flatten** layer creates a **linear output** value from the multidimensional data input. The **Dense** layer then connects to the output layer."
      ],
      "metadata": {
        "id": "KfvAnQQFxhPh"
      }
    },
    {
      "cell_type": "code",
      "source": [
        "model = tf.keras.models.Sequential()\n",
        "model.add(tf.keras.layers.Flatten())\n",
        "model.add(tf.keras.layers.Dense(128, activation=tf.nn.relu))\n",
        "model.add(tf.keras.layers.Dense(128, activation=tf.nn.relu))\n",
        "# Output Layer\n",
        "model.add(tf.keras.layers.Dense(10, activation=tf.nn.softmax))"
      ],
      "metadata": {
        "id": "21P-Z5iIotiD"
      },
      "execution_count": 3,
      "outputs": []
    },
    {
      "cell_type": "markdown",
      "source": [
        "Compile the model and train it!"
      ],
      "metadata": {
        "id": "hPEwmtFky5Tp"
      }
    },
    {
      "cell_type": "code",
      "source": [
        "model.compile(optimizer='adam',loss='sparse_categorical_crossentropy', metrics=['accuracy'])\n",
        "model.fit(x_train, y_train, epochs=3)"
      ],
      "metadata": {
        "id": "-l3L2vLny4VR",
        "colab": {
          "base_uri": "https://localhost:8080/"
        },
        "outputId": "76dafabe-65da-470f-8a1a-a1d72fb4548a"
      },
      "execution_count": 4,
      "outputs": [
        {
          "output_type": "stream",
          "name": "stdout",
          "text": [
            "Epoch 1/3\n",
            "1875/1875 [==============================] - 7s 3ms/step - loss: 0.2618 - accuracy: 0.9243\n",
            "Epoch 2/3\n",
            "1875/1875 [==============================] - 6s 3ms/step - loss: 0.1078 - accuracy: 0.9667\n",
            "Epoch 3/3\n",
            "1875/1875 [==============================] - 6s 3ms/step - loss: 0.0730 - accuracy: 0.9766\n"
          ]
        },
        {
          "output_type": "execute_result",
          "data": {
            "text/plain": [
              "<keras.callbacks.History at 0x7fefd49ca2d0>"
            ]
          },
          "metadata": {},
          "execution_count": 4
        }
      ]
    },
    {
      "cell_type": "markdown",
      "source": [
        "Evaluate the results."
      ],
      "metadata": {
        "id": "C_DMTcpwzWO4"
      }
    },
    {
      "cell_type": "code",
      "source": [
        "val_loss, val_acc = model.evaluate(x_test, y_test)\n",
        "print(val_loss, val_acc)"
      ],
      "metadata": {
        "colab": {
          "base_uri": "https://localhost:8080/"
        },
        "id": "MtkQFZYVoVIE",
        "outputId": "9cf31c28-edc9-4bf6-9059-a6ac55645bd7"
      },
      "execution_count": 5,
      "outputs": [
        {
          "output_type": "stream",
          "name": "stdout",
          "text": [
            "313/313 [==============================] - 1s 2ms/step - loss: 0.0947 - accuracy: 0.9711\n",
            "0.09471235424280167 0.9710999727249146\n"
          ]
        }
      ]
    },
    {
      "cell_type": "markdown",
      "source": [
        "Use **Matplotlib.pyplot** to show the image we used:"
      ],
      "metadata": {
        "id": "4XWxzsIkjr5r"
      }
    },
    {
      "cell_type": "code",
      "source": [
        "import matplotlib.pyplot as plt\n",
        "\n",
        "plt.imshow(x_train[5], cmap= plt.cm.binary)\n",
        "plt.show()\n",
        "#print(x_train)"
      ],
      "metadata": {
        "colab": {
          "base_uri": "https://localhost:8080/",
          "height": 265
        },
        "id": "z8a-ZSaSjwgi",
        "outputId": "707ac79b-cdd1-4c7e-f0c7-dad9cae1f14c"
      },
      "execution_count": 6,
      "outputs": [
        {
          "output_type": "display_data",
          "data": {
            "text/plain": [
              "<Figure size 432x288 with 1 Axes>"
            ],
            "image/png": "[encoded data removed]"
          },
          "metadata": {
            "needs_background": "light"
          }
        }
      ]
    },
    {
      "cell_type": "markdown",
      "source": [
        "Save the model and use it later. Thanks for reading. 🥉🥰"
      ],
      "metadata": {
        "id": "Iqy5hLZYzlox"
      }
    },
    {
      "cell_type": "code",
      "source": [
        "model.save('Handwritten_num_predict.model')"
      ],
      "metadata": {
        "id": "8istHgfpp4ux",
        "colab": {
          "base_uri": "https://localhost:8080/"
        },
        "outputId": "779b602b-bd3f-43aa-e348-73e649ceaf9e"
      },
      "execution_count": 8,
      "outputs": [
        {
          "output_type": "stream",
          "name": "stdout",
          "text": [
            "INFO:tensorflow:Assets written to: Handwritten_num_predict.model/assets\n"
          ]
        }
      ]
    }
  ]
}
